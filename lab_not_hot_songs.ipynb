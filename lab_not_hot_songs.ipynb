{
 "cells": [
  {
   "cell_type": "code",
   "execution_count": 1,
   "id": "eb7e7c96",
   "metadata": {},
   "outputs": [],
   "source": [
    "import pandas as pd\n",
    "import numpy as np"
   ]
  },
  {
   "cell_type": "code",
   "execution_count": 4,
   "id": "4d92a126",
   "metadata": {},
   "outputs": [],
   "source": [
    "not_hot_songs = pd.read_excel('top_2000_2023.xlsx')"
   ]
  },
  {
   "cell_type": "code",
   "execution_count": 6,
   "id": "daf0bab4",
   "metadata": {},
   "outputs": [],
   "source": [
    "not_hot_songs.columns = ['position', 'title', 'artist', 'year']"
   ]
  },
  {
   "cell_type": "code",
   "execution_count": 14,
   "id": "d63af6cd",
   "metadata": {},
   "outputs": [
    {
     "data": {
      "text/html": [
       "<div>\n",
       "<style scoped>\n",
       "    .dataframe tbody tr th:only-of-type {\n",
       "        vertical-align: middle;\n",
       "    }\n",
       "\n",
       "    .dataframe tbody tr th {\n",
       "        vertical-align: top;\n",
       "    }\n",
       "\n",
       "    .dataframe thead th {\n",
       "        text-align: right;\n",
       "    }\n",
       "</style>\n",
       "<table border=\"1\" class=\"dataframe\">\n",
       "  <thead>\n",
       "    <tr style=\"text-align: right;\">\n",
       "      <th></th>\n",
       "      <th>position</th>\n",
       "      <th>title</th>\n",
       "      <th>artist</th>\n",
       "      <th>year</th>\n",
       "    </tr>\n",
       "  </thead>\n",
       "  <tbody>\n",
       "    <tr>\n",
       "      <th>0</th>\n",
       "      <td>1</td>\n",
       "      <td>Bohemian Rhapsody</td>\n",
       "      <td>Queen</td>\n",
       "      <td>1975</td>\n",
       "    </tr>\n",
       "    <tr>\n",
       "      <th>1</th>\n",
       "      <td>2</td>\n",
       "      <td>Roller Coaster</td>\n",
       "      <td>Danny Vera</td>\n",
       "      <td>2019</td>\n",
       "    </tr>\n",
       "    <tr>\n",
       "      <th>2</th>\n",
       "      <td>3</td>\n",
       "      <td>Hotel California</td>\n",
       "      <td>Eagles</td>\n",
       "      <td>1977</td>\n",
       "    </tr>\n",
       "    <tr>\n",
       "      <th>3</th>\n",
       "      <td>4</td>\n",
       "      <td>Piano Man</td>\n",
       "      <td>Billy Joel</td>\n",
       "      <td>1973</td>\n",
       "    </tr>\n",
       "    <tr>\n",
       "      <th>4</th>\n",
       "      <td>5</td>\n",
       "      <td>Fix You</td>\n",
       "      <td>Coldplay</td>\n",
       "      <td>2005</td>\n",
       "    </tr>\n",
       "  </tbody>\n",
       "</table>\n",
       "</div>"
      ],
      "text/plain": [
       "   position              title      artist  year\n",
       "0         1  Bohemian Rhapsody       Queen  1975\n",
       "1         2     Roller Coaster  Danny Vera  2019\n",
       "2         3   Hotel California      Eagles  1977\n",
       "3         4          Piano Man  Billy Joel  1973\n",
       "4         5            Fix You    Coldplay  2005"
      ]
     },
     "execution_count": 14,
     "metadata": {},
     "output_type": "execute_result"
    }
   ],
   "source": [
    "not_hot_songs.head(5)"
   ]
  },
  {
   "cell_type": "code",
   "execution_count": 18,
   "id": "03f2e20c",
   "metadata": {},
   "outputs": [
    {
     "data": {
      "text/html": [
       "<div>\n",
       "<style scoped>\n",
       "    .dataframe tbody tr th:only-of-type {\n",
       "        vertical-align: middle;\n",
       "    }\n",
       "\n",
       "    .dataframe tbody tr th {\n",
       "        vertical-align: top;\n",
       "    }\n",
       "\n",
       "    .dataframe thead th {\n",
       "        text-align: right;\n",
       "    }\n",
       "</style>\n",
       "<table border=\"1\" class=\"dataframe\">\n",
       "  <thead>\n",
       "    <tr style=\"text-align: right;\">\n",
       "      <th></th>\n",
       "      <th>artist</th>\n",
       "      <th>title</th>\n",
       "    </tr>\n",
       "  </thead>\n",
       "  <tbody>\n",
       "    <tr>\n",
       "      <th>0</th>\n",
       "      <td>Queen</td>\n",
       "      <td>Bohemian Rhapsody</td>\n",
       "    </tr>\n",
       "    <tr>\n",
       "      <th>1</th>\n",
       "      <td>Danny Vera</td>\n",
       "      <td>Roller Coaster</td>\n",
       "    </tr>\n",
       "    <tr>\n",
       "      <th>2</th>\n",
       "      <td>Eagles</td>\n",
       "      <td>Hotel California</td>\n",
       "    </tr>\n",
       "    <tr>\n",
       "      <th>3</th>\n",
       "      <td>Billy Joel</td>\n",
       "      <td>Piano Man</td>\n",
       "    </tr>\n",
       "    <tr>\n",
       "      <th>4</th>\n",
       "      <td>Coldplay</td>\n",
       "      <td>Fix You</td>\n",
       "    </tr>\n",
       "  </tbody>\n",
       "</table>\n",
       "</div>"
      ],
      "text/plain": [
       "       artist              title\n",
       "0       Queen  Bohemian Rhapsody\n",
       "1  Danny Vera     Roller Coaster\n",
       "2      Eagles   Hotel California\n",
       "3  Billy Joel          Piano Man\n",
       "4    Coldplay            Fix You"
      ]
     },
     "execution_count": 18,
     "metadata": {},
     "output_type": "execute_result"
    }
   ],
   "source": [
    "not_hot_songs = not_hot_songs[['title', 'artist']]\n",
    "not_hot_songs = not_hot_songs[['artist', 'title']]\n",
    "not_hot_songs.head(5)"
   ]
  },
  {
   "cell_type": "code",
   "execution_count": 12,
   "id": "a323baa6",
   "metadata": {},
   "outputs": [],
   "source": [
    "hot_songs = pd.read_csv('../../Morning/lab-web-scraping-single-page/billboard_top100.csv')"
   ]
  },
  {
   "cell_type": "code",
   "execution_count": 19,
   "id": "833339d9",
   "metadata": {},
   "outputs": [],
   "source": [
    "hot_songs.drop(columns='Unnamed: 0', inplace=True)"
   ]
  },
  {
   "cell_type": "code",
   "execution_count": 20,
   "id": "c908ef93",
   "metadata": {},
   "outputs": [
    {
     "data": {
      "text/html": [
       "<div>\n",
       "<style scoped>\n",
       "    .dataframe tbody tr th:only-of-type {\n",
       "        vertical-align: middle;\n",
       "    }\n",
       "\n",
       "    .dataframe tbody tr th {\n",
       "        vertical-align: top;\n",
       "    }\n",
       "\n",
       "    .dataframe thead th {\n",
       "        text-align: right;\n",
       "    }\n",
       "</style>\n",
       "<table border=\"1\" class=\"dataframe\">\n",
       "  <thead>\n",
       "    <tr style=\"text-align: right;\">\n",
       "      <th></th>\n",
       "      <th>artist</th>\n",
       "      <th>title</th>\n",
       "    </tr>\n",
       "  </thead>\n",
       "  <tbody>\n",
       "    <tr>\n",
       "      <th>0</th>\n",
       "      <td>Brenda Lee</td>\n",
       "      <td>Rockin' Around The Christmas Tree</td>\n",
       "    </tr>\n",
       "    <tr>\n",
       "      <th>1</th>\n",
       "      <td>Mariah Carey</td>\n",
       "      <td>All I Want For Christmas Is You</td>\n",
       "    </tr>\n",
       "    <tr>\n",
       "      <th>2</th>\n",
       "      <td>Bobby Helms</td>\n",
       "      <td>Jingle Bell Rock</td>\n",
       "    </tr>\n",
       "    <tr>\n",
       "      <th>3</th>\n",
       "      <td>Wham!</td>\n",
       "      <td>Last Christmas</td>\n",
       "    </tr>\n",
       "    <tr>\n",
       "      <th>4</th>\n",
       "      <td>Burl Ives</td>\n",
       "      <td>A Holly Jolly Christmas</td>\n",
       "    </tr>\n",
       "    <tr>\n",
       "      <th>...</th>\n",
       "      <td>...</td>\n",
       "      <td>...</td>\n",
       "    </tr>\n",
       "    <tr>\n",
       "      <th>95</th>\n",
       "      <td>Grupo Frontera &amp; Grupo Firme</td>\n",
       "      <td>El Amor de Su Vida</td>\n",
       "    </tr>\n",
       "    <tr>\n",
       "      <th>96</th>\n",
       "      <td>Jung Kook</td>\n",
       "      <td>Standing Next To You</td>\n",
       "    </tr>\n",
       "    <tr>\n",
       "      <th>97</th>\n",
       "      <td>Morgan Wallen Featuring Eric Church</td>\n",
       "      <td>Man Made A Bar</td>\n",
       "    </tr>\n",
       "    <tr>\n",
       "      <th>98</th>\n",
       "      <td>Calle 24 x Chino Pacas x Fuerza Regida</td>\n",
       "      <td>Que Onda</td>\n",
       "    </tr>\n",
       "    <tr>\n",
       "      <th>99</th>\n",
       "      <td>Rod Wave</td>\n",
       "      <td>Great Gatsby</td>\n",
       "    </tr>\n",
       "  </tbody>\n",
       "</table>\n",
       "<p>100 rows × 2 columns</p>\n",
       "</div>"
      ],
      "text/plain": [
       "                                    artist                              title\n",
       "0                               Brenda Lee  Rockin' Around The Christmas Tree\n",
       "1                             Mariah Carey    All I Want For Christmas Is You\n",
       "2                              Bobby Helms                   Jingle Bell Rock\n",
       "3                                    Wham!                     Last Christmas\n",
       "4                                Burl Ives            A Holly Jolly Christmas\n",
       "..                                     ...                                ...\n",
       "95            Grupo Frontera & Grupo Firme                 El Amor de Su Vida\n",
       "96                               Jung Kook               Standing Next To You\n",
       "97     Morgan Wallen Featuring Eric Church                     Man Made A Bar\n",
       "98  Calle 24 x Chino Pacas x Fuerza Regida                           Que Onda\n",
       "99                                Rod Wave                       Great Gatsby\n",
       "\n",
       "[100 rows x 2 columns]"
      ]
     },
     "execution_count": 20,
     "metadata": {},
     "output_type": "execute_result"
    }
   ],
   "source": [
    "hot_songs"
   ]
  },
  {
   "cell_type": "code",
   "execution_count": 25,
   "id": "baafa70c",
   "metadata": {},
   "outputs": [
    {
     "data": {
      "text/html": [
       "<div>\n",
       "<style scoped>\n",
       "    .dataframe tbody tr th:only-of-type {\n",
       "        vertical-align: middle;\n",
       "    }\n",
       "\n",
       "    .dataframe tbody tr th {\n",
       "        vertical-align: top;\n",
       "    }\n",
       "\n",
       "    .dataframe thead th {\n",
       "        text-align: right;\n",
       "    }\n",
       "</style>\n",
       "<table border=\"1\" class=\"dataframe\">\n",
       "  <thead>\n",
       "    <tr style=\"text-align: right;\">\n",
       "      <th></th>\n",
       "      <th>artist</th>\n",
       "      <th>title</th>\n",
       "      <th>_merge</th>\n",
       "    </tr>\n",
       "  </thead>\n",
       "  <tbody>\n",
       "    <tr>\n",
       "      <th>256</th>\n",
       "      <td>Wham!</td>\n",
       "      <td>Last Christmas</td>\n",
       "      <td>both</td>\n",
       "    </tr>\n",
       "    <tr>\n",
       "      <th>757</th>\n",
       "      <td>Mariah Carey</td>\n",
       "      <td>All I Want For Christmas Is You</td>\n",
       "      <td>both</td>\n",
       "    </tr>\n",
       "    <tr>\n",
       "      <th>1597</th>\n",
       "      <td>Teddy Swims</td>\n",
       "      <td>Lose Control</td>\n",
       "      <td>both</td>\n",
       "    </tr>\n",
       "    <tr>\n",
       "      <th>1845</th>\n",
       "      <td>Taylor Swift</td>\n",
       "      <td>Cruel Summer</td>\n",
       "      <td>both</td>\n",
       "    </tr>\n",
       "    <tr>\n",
       "      <th>1903</th>\n",
       "      <td>Ed Sheeran &amp; Elton John</td>\n",
       "      <td>Merry Christmas</td>\n",
       "      <td>both</td>\n",
       "    </tr>\n",
       "  </tbody>\n",
       "</table>\n",
       "</div>"
      ],
      "text/plain": [
       "                       artist                            title _merge\n",
       "256                     Wham!                   Last Christmas   both\n",
       "757              Mariah Carey  All I Want For Christmas Is You   both\n",
       "1597              Teddy Swims                     Lose Control   both\n",
       "1845             Taylor Swift                     Cruel Summer   both\n",
       "1903  Ed Sheeran & Elton John                  Merry Christmas   both"
      ]
     },
     "metadata": {},
     "output_type": "display_data"
    }
   ],
   "source": [
    "# Find rows present in both DataFrames\n",
    "merged = not_hot_songs.merge(hot_songs, indicator=True, how='left')\n",
    "rows_in_both = merged[merged['_merge'] == 'both']\n",
    "display(rows_in_both)\n",
    "\n",
    "# Remove rows present in both DataFrames from df2\n",
    "not_hot_songs_final = not_hot_songs[~not_hot_songs.isin(rows_in_both.to_dict('list')).all(1)]"
   ]
  },
  {
   "cell_type": "code",
   "execution_count": 27,
   "id": "d464d19a",
   "metadata": {},
   "outputs": [],
   "source": [
    "not_hot_songs_final.to_csv('not_hot_songs.csv')"
   ]
  }
 ],
 "metadata": {
  "kernelspec": {
   "display_name": "Python 3 (ipykernel)",
   "language": "python",
   "name": "python3"
  },
  "language_info": {
   "codemirror_mode": {
    "name": "ipython",
    "version": 3
   },
   "file_extension": ".py",
   "mimetype": "text/x-python",
   "name": "python",
   "nbconvert_exporter": "python",
   "pygments_lexer": "ipython3",
   "version": "3.11.5"
  }
 },
 "nbformat": 4,
 "nbformat_minor": 5
}
